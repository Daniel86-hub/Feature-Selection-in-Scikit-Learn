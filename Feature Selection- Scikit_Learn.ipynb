{
 "cells": [
  {
   "cell_type": "markdown",
   "id": "d15f2e4f",
   "metadata": {},
   "source": [
    "## 1. Automatic Feature Seection"
   ]
  },
  {
   "cell_type": "markdown",
   "id": "0aa3fd56",
   "metadata": {},
   "source": [
    "### There are 3 most basic strategies : \n",
    "* Univariate Statistics\n",
    "* Model_based selection\n",
    "* Iterative selection\n",
    "\n",
    "All of these are supervised methods, meaning they need the **target** for fitting the model.This means we need to split the data into training and test sets, and fit the feature selection only on the training part of the data."
   ]
  },
  {
   "cell_type": "code",
   "execution_count": 8,
   "id": "ec5023fb",
   "metadata": {},
   "outputs": [],
   "source": [
    "import pandas as pd\n",
    "import numpy as np\n",
    "import matplotlib.pyplot as plt"
   ]
  },
  {
   "cell_type": "markdown",
   "id": "c67623d4",
   "metadata": {},
   "source": [
    "## i. Univariate statistics"
   ]
  },
  {
   "cell_type": "code",
   "execution_count": 23,
   "id": "db6f225f",
   "metadata": {},
   "outputs": [
    {
     "name": "stdout",
     "output_type": "stream",
     "text": [
      "x_train.shape: (284, 80)\n",
      "x_train_selected.shape: (284, 40)\n"
     ]
    }
   ],
   "source": [
    "from sklearn.datasets import load_breast_cancer\n",
    "from sklearn.feature_selection import SelectPercentile\n",
    "from sklearn.model_selection import train_test_split\n",
    "\n",
    "cancer=load_breast_cancer()\n",
    "\n",
    "#get deterministic random numbers\n",
    "\n",
    "rng=np.random.RandomState(42)\n",
    "noise=rng.normal(size=(len(cancer.data), 50))\n",
    "\n",
    "# Add noise features to the data\n",
    "# the first 30 features are from the data, the next 50 are noise\n",
    "\n",
    "x_w_noise=np.hstack([cancer.data, noise])\n",
    "X_train, X_test, y_train, y_test=train_test_split(x_w_noise, cancer.target, random_state=0, test_size=0.5)\n",
    "\n",
    "#use f_classif (the default) and SelectPercentile to select 50% of the features\n",
    "\n",
    "select=SelectPercentile(percentile=50)\n",
    "select.fit(X_train, y_train)\n",
    "\n",
    "#transform training set\n",
    "\n",
    "x_train_selected=select.transform(X_train)\n",
    "\n",
    "print(\"x_train.shape: {}\".format(X_train.shape))\n",
    "print(\"x_train_selected.shape: {}\".format(x_train_selected.shape))"
   ]
  },
  {
   "cell_type": "markdown",
   "id": "7b08ceb4",
   "metadata": {},
   "source": [
    "As you can see, the number of features were reduced from 80 to 40(50% of the original number of features). \n",
    "\n",
    "Let's find out which features were selected using the **get_support** method, which returns a Boolean mask of the selected features"
   ]
  },
  {
   "cell_type": "code",
   "execution_count": 26,
   "id": "61aa6795",
   "metadata": {},
   "outputs": [
    {
     "data": {
      "text/plain": [
       "([], [])"
      ]
     },
     "execution_count": 26,
     "metadata": {},
     "output_type": "execute_result"
    },
    {
     "data": {
      "image/png": "[encoded data removed]",
      "text/plain": [
       "<Figure size 1152x144 with 1 Axes>"
      ]
     },
     "metadata": {
      "needs_background": "light"
     },
     "output_type": "display_data"
    }
   ],
   "source": [
    "mask=select.get_support()\n",
    "\n",
    "#visualize the mask--black is True, white is False\n",
    "\n",
    "plt.matshow(mask.reshape(1, -1), cmap='viridis')\n",
    "plt.xlabel('sample index')\n",
    "plt.yticks(())"
   ]
  },
  {
   "cell_type": "code",
   "execution_count": 27,
   "id": "be33de23",
   "metadata": {},
   "outputs": [
    {
     "name": "stdout",
     "output_type": "stream",
     "text": [
      "score with all features: 0.919\n",
      "score with only selected features: 0.916\n"
     ]
    },
    {
     "name": "stderr",
     "output_type": "stream",
     "text": [
      "C:\\Users\\Daniel\\anaconda3\\lib\\site-packages\\sklearn\\linear_model\\_logistic.py:762: ConvergenceWarning: lbfgs failed to converge (status=1):\n",
      "STOP: TOTAL NO. of ITERATIONS REACHED LIMIT.\n",
      "\n",
      "Increase the number of iterations (max_iter) or scale the data as shown in:\n",
      "    https://scikit-learn.org/stable/modules/preprocessing.html\n",
      "Please also refer to the documentation for alternative solver options:\n",
      "    https://scikit-learn.org/stable/modules/linear_model.html#logistic-regression\n",
      "  n_iter_i = _check_optimize_result(\n",
      "C:\\Users\\Daniel\\anaconda3\\lib\\site-packages\\sklearn\\linear_model\\_logistic.py:762: ConvergenceWarning: lbfgs failed to converge (status=1):\n",
      "STOP: TOTAL NO. of ITERATIONS REACHED LIMIT.\n",
      "\n",
      "Increase the number of iterations (max_iter) or scale the data as shown in:\n",
      "    https://scikit-learn.org/stable/modules/preprocessing.html\n",
      "Please also refer to the documentation for alternative solver options:\n",
      "    https://scikit-learn.org/stable/modules/linear_model.html#logistic-regression\n",
      "  n_iter_i = _check_optimize_result(\n"
     ]
    }
   ],
   "source": [
    "# Let's compare the performance of logistic regression on all features against \n",
    "# the performance using only the selected features:\n",
    "\n",
    "from sklearn.linear_model import LogisticRegression\n",
    "\n",
    "#transform test data\n",
    "x_test_selected=select.transform(X_test)\n",
    "lr=LogisticRegression()\n",
    "lr.fit(X_train, y_train)\n",
    "print(\"score with all features: {:.3f}\".format(lr.score(X_test, y_test)))\n",
    "lr.fit(x_train_selected, y_train)\n",
    "print(\"score with only selected features: {:.3f}\".format(lr.score(x_test_selected, y_test)))"
   ]
  },
  {
   "cell_type": "markdown",
   "id": "4a47083b",
   "metadata": {},
   "source": [
    "## ii. Model_based feature selection"
   ]
  },
  {
   "cell_type": "code",
   "execution_count": 6,
   "id": "4667e760",
   "metadata": {},
   "outputs": [
    {
     "name": "stdout",
     "output_type": "stream",
     "text": [
      "X_train.shape: (284, 30)\n",
      "x_train_l1.shape: (284, 15)\n"
     ]
    }
   ],
   "source": [
    "from sklearn.datasets import load_breast_cancer\n",
    "from sklearn.model_selection import train_test_split\n",
    "cancer=load_breast_cancer()\n",
    "X_train, X_test, y_train, y_test=train_test_split(cancer.data, cancer.target, random_state=0, test_size=0.5)\n",
    "\n",
    "\n",
    "from sklearn.feature_selection import SelectFromModel\n",
    "from sklearn.ensemble import RandomForestClassifier\n",
    "\n",
    "select=SelectFromModel(\n",
    "    RandomForestClassifier(n_estimators=100, random_state=42), threshold='median')\n",
    "\n",
    "# Let's fit the model\n",
    "\n",
    "select.fit(X_train, y_train)\n",
    "x_train_l1=select.transform(X_train)\n",
    "print(\"X_train.shape: {}\".format(X_train.shape))\n",
    "print(\"x_train_l1.shape: {}\".format(x_train_l1.shape))"
   ]
  },
  {
   "cell_type": "code",
   "execution_count": 21,
   "id": "2dec597c",
   "metadata": {},
   "outputs": [
    {
     "data": {
      "text/plain": [
       "([], [])"
      ]
     },
     "execution_count": 21,
     "metadata": {},
     "output_type": "execute_result"
    },
    {
     "data": {
      "image/png": "[encoded data removed]",
      "text/plain": [
       "<Figure size 1152x144 with 1 Axes>"
      ]
     },
     "metadata": {
      "needs_background": "light"
     },
     "output_type": "display_data"
    }
   ],
   "source": [
    "# Again, let's have a look at the features that were selected\n",
    "\n",
    "mask=select.get_support()\n",
    "\n",
    "#visualize the mask--black is True, white is False\n",
    "plt.matshow(mask.reshape(1, -1), cmap='viridis')\n",
    "plt.xlabel('sample index')\n",
    "plt.yticks(())"
   ]
  },
  {
   "cell_type": "code",
   "execution_count": 19,
   "id": "043520ac",
   "metadata": {},
   "outputs": [
    {
     "name": "stdout",
     "output_type": "stream",
     "text": [
      "Test score: 0.958\n"
     ]
    }
   ],
   "source": [
    "# Let's look at the performance\n",
    "from sklearn.linear_model import LogisticRegression\n",
    "x_test_l1=select.transform(X_test)\n",
    "score=LogisticRegression().fit(x_train_l1, y_train).score(x_test_l1, y_test)\n",
    "print(\"Test score: {:.3f}\".format(score))"
   ]
  },
  {
   "cell_type": "markdown",
   "id": "69f64d79",
   "metadata": {},
   "source": [
    "# iii. Iterative Feature Selection"
   ]
  },
  {
   "cell_type": "markdown",
   "id": "d9c83143",
   "metadata": {},
   "source": [
    "Here a series of models are built with varying numbers of features. There are two basic methods: Starting with no features and adding features one by one untill some stopping creterion is reached. Or starting with all features and removing features one by one untill some stopping creterion is reached.\n",
    "Because a series of models are built, these methods are much more expensive than the methods we discussed previously.\n",
    "\n",
    "One particular method of this kind is Recursive Feature Elimination(RFE).\n",
    "\n",
    "Running this code takes significantly longer than that for model_based_selection , because a random forest model is trained 40 times , one for each feature that is dropped."
   ]
  },
  {
   "cell_type": "code",
   "execution_count": 28,
   "id": "11e8b5ca",
   "metadata": {},
   "outputs": [
    {
     "data": {
      "text/plain": [
       "([], [])"
      ]
     },
     "execution_count": 28,
     "metadata": {},
     "output_type": "execute_result"
    },
    {
     "data": {
      "image/png": "[encoded data removed]",
      "text/plain": [
       "<Figure size 1152x144 with 1 Axes>"
      ]
     },
     "metadata": {
      "needs_background": "light"
     },
     "output_type": "display_data"
    }
   ],
   "source": [
    "from sklearn. feature_selection import RFE\n",
    "select=RFE(RandomForestClassifier(n_estimators=100, random_state=42), n_features_to_select=40)\n",
    "select.fit(X_train, y_train)\n",
    "\n",
    "#visualize the selected features:\n",
    "mask=select.get_support()\n",
    "plt.matshow(mask.reshape(1, -1), cmap=\"viridis\")\n",
    "plt.xlabel(\"Sample index\")\n",
    "plt.yticks(())"
   ]
  },
  {
   "cell_type": "code",
   "execution_count": 30,
   "id": "e1e8d761",
   "metadata": {},
   "outputs": [
    {
     "name": "stdout",
     "output_type": "stream",
     "text": [
      "Test score: 0.930\n"
     ]
    },
    {
     "name": "stderr",
     "output_type": "stream",
     "text": [
      "C:\\Users\\Daniel\\anaconda3\\lib\\site-packages\\sklearn\\linear_model\\_logistic.py:762: ConvergenceWarning: lbfgs failed to converge (status=1):\n",
      "STOP: TOTAL NO. of ITERATIONS REACHED LIMIT.\n",
      "\n",
      "Increase the number of iterations (max_iter) or scale the data as shown in:\n",
      "    https://scikit-learn.org/stable/modules/preprocessing.html\n",
      "Please also refer to the documentation for alternative solver options:\n",
      "    https://scikit-learn.org/stable/modules/linear_model.html#logistic-regression\n",
      "  n_iter_i = _check_optimize_result(\n"
     ]
    }
   ],
   "source": [
    "x_train_rfe=select.transform(X_train)\n",
    "x_test_rfe=select.transform(X_test)\n",
    "score=LogisticRegression().fit(x_train_rfe, y_train).score(x_test_rfe, y_test)\n",
    "print(\"Test score: {:.3f}\".format(score))"
   ]
  },
  {
   "cell_type": "markdown",
   "id": "26190466",
   "metadata": {},
   "source": [
    "*Big up to Andreas C.Muller & Sarah Guido*\n",
    "\n",
    "*Reference book*: **Introduction to Machine Learning with Python** "
   ]
  }
 ],
 "metadata": {
  "kernelspec": {
   "display_name": "Python 3",
   "language": "python",
   "name": "python3"
  },
  "language_info": {
   "codemirror_mode": {
    "name": "ipython",
    "version": 3
   },
   "file_extension": ".py",
   "mimetype": "text/x-python",
   "name": "python",
   "nbconvert_exporter": "python",
   "pygments_lexer": "ipython3",
   "version": "3.8.8"
  }
 },
 "nbformat": 4,
 "nbformat_minor": 5
}
